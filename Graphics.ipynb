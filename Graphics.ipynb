{
 "cells": [
  {
   "cell_type": "code",
   "execution_count": 2,
   "id": "0a44e68d",
   "metadata": {},
   "outputs": [
    {
     "name": "stdout",
     "output_type": "stream",
     "text": [
      "Requirement already satisfied: graphics.py in c:\\programdata\\anaconda3\\lib\\site-packages (5.0.1.post1)\n"
     ]
    },
    {
     "name": "stderr",
     "output_type": "stream",
     "text": [
      "WARNING: Ignoring invalid distribution -gments (c:\\programdata\\anaconda3\\lib\\site-packages)\n",
      "WARNING: Ignoring invalid distribution -ygments (c:\\programdata\\anaconda3\\lib\\site-packages)\n",
      "WARNING: Ignoring invalid distribution -gments (c:\\programdata\\anaconda3\\lib\\site-packages)\n",
      "WARNING: Ignoring invalid distribution - (c:\\programdata\\anaconda3\\lib\\site-packages)\n",
      "WARNING: Ignoring invalid distribution -gments (c:\\programdata\\anaconda3\\lib\\site-packages)\n",
      "WARNING: Ignoring invalid distribution -ygments (c:\\programdata\\anaconda3\\lib\\site-packages)\n",
      "WARNING: Ignoring invalid distribution -gments (c:\\programdata\\anaconda3\\lib\\site-packages)\n",
      "WARNING: Ignoring invalid distribution - (c:\\programdata\\anaconda3\\lib\\site-packages)\n",
      "WARNING: Ignoring invalid distribution -gments (c:\\programdata\\anaconda3\\lib\\site-packages)\n",
      "WARNING: Ignoring invalid distribution -ygments (c:\\programdata\\anaconda3\\lib\\site-packages)\n",
      "WARNING: Ignoring invalid distribution -gments (c:\\programdata\\anaconda3\\lib\\site-packages)\n",
      "WARNING: Ignoring invalid distribution - (c:\\programdata\\anaconda3\\lib\\site-packages)\n",
      "WARNING: Ignoring invalid distribution -gments (c:\\programdata\\anaconda3\\lib\\site-packages)\n",
      "WARNING: Ignoring invalid distribution -ygments (c:\\programdata\\anaconda3\\lib\\site-packages)\n",
      "WARNING: Ignoring invalid distribution -gments (c:\\programdata\\anaconda3\\lib\\site-packages)\n",
      "WARNING: Ignoring invalid distribution - (c:\\programdata\\anaconda3\\lib\\site-packages)\n",
      "WARNING: Ignoring invalid distribution -gments (c:\\programdata\\anaconda3\\lib\\site-packages)\n",
      "WARNING: Ignoring invalid distribution -ygments (c:\\programdata\\anaconda3\\lib\\site-packages)\n",
      "WARNING: Ignoring invalid distribution -gments (c:\\programdata\\anaconda3\\lib\\site-packages)\n",
      "WARNING: Ignoring invalid distribution - (c:\\programdata\\anaconda3\\lib\\site-packages)\n",
      "WARNING: Ignoring invalid distribution -gments (c:\\programdata\\anaconda3\\lib\\site-packages)\n",
      "WARNING: Ignoring invalid distribution -ygments (c:\\programdata\\anaconda3\\lib\\site-packages)\n",
      "WARNING: Ignoring invalid distribution -gments (c:\\programdata\\anaconda3\\lib\\site-packages)\n",
      "WARNING: Ignoring invalid distribution - (c:\\programdata\\anaconda3\\lib\\site-packages)\n"
     ]
    }
   ],
   "source": [
    "!pip install  graphics.py"
   ]
  },
  {
   "cell_type": "code",
   "execution_count": null,
   "id": "dc7ee864",
   "metadata": {},
   "outputs": [],
   "source": []
  },
  {
   "cell_type": "code",
   "execution_count": 3,
   "id": "58e19a89",
   "metadata": {},
   "outputs": [],
   "source": [
    "import graphics"
   ]
  },
  {
   "cell_type": "code",
   "execution_count": 4,
   "id": "c7f15dcb",
   "metadata": {},
   "outputs": [],
   "source": [
    "from graphics import *"
   ]
  },
  {
   "cell_type": "code",
   "execution_count": 5,
   "id": "449216e9",
   "metadata": {},
   "outputs": [],
   "source": [
    "win=GraphWin()\n",
    "pt=Point(100,50)  \n",
    "win.close() #to close the screen"
   ]
  },
  {
   "cell_type": "code",
   "execution_count": 6,
   "id": "217a27aa",
   "metadata": {},
   "outputs": [],
   "source": [
    "win=GraphWin(\"painting\",300,300) # creating a screen of size 300x300 with name 'Painting'"
   ]
  },
  {
   "cell_type": "code",
   "execution_count": 7,
   "id": "6709763d",
   "metadata": {},
   "outputs": [
    {
     "data": {
      "text/plain": [
       "Point(50.0, 50.0)"
      ]
     },
     "execution_count": 7,
     "metadata": {},
     "output_type": "execute_result"
    }
   ],
   "source": [
    "pt=Point(50,50)\n",
    "pt.draw(win) #to display the point on the graphic window ,you can use pt.draw(win)."
   ]
  },
  {
   "cell_type": "code",
   "execution_count": 8,
   "id": "ccbcf2e6",
   "metadata": {},
   "outputs": [
    {
     "data": {
      "text/plain": [
       "Circle(Point(50.0, 50.0), 50)"
      ]
     },
     "execution_count": 8,
     "metadata": {},
     "output_type": "execute_result"
    }
   ],
   "source": [
    "cir=Circle(pt,50)\n",
    "cir.draw(win)"
   ]
  },
  {
   "cell_type": "code",
   "execution_count": 9,
   "id": "254ea57e",
   "metadata": {},
   "outputs": [],
   "source": [
    "cir.setOutline('blue')\n",
    "cir.setFill('sky Blue')"
   ]
  },
  {
   "cell_type": "code",
   "execution_count": 10,
   "id": "acfaefea",
   "metadata": {},
   "outputs": [],
   "source": [
    "line=Line(Point(150,150),Point(150,250)) #Point(y,x)\n",
    "line.draw(win)\n",
    "win.close()"
   ]
  },
  {
   "cell_type": "code",
   "execution_count": 11,
   "id": "6904d696",
   "metadata": {},
   "outputs": [
    {
     "data": {
      "text/plain": [
       "Rectangle(Point(50.0, 50.0), Point(100.0, 100.0))"
      ]
     },
     "execution_count": 11,
     "metadata": {},
     "output_type": "execute_result"
    }
   ],
   "source": [
    "#Rectangle\n",
    "win=GraphWin(\"Figure\",500,500) \n",
    "rect = Rectangle(Point(50,50),Point(100,100))   #Rectangle(Point(x1,y1),Point(x2,y2))   \n",
    "rect.draw(win)\n"
   ]
  },
  {
   "cell_type": "code",
   "execution_count": 12,
   "id": "dfbf19ba",
   "metadata": {},
   "outputs": [
    {
     "data": {
      "text/plain": [
       "Circle(Point(50.0, 50.0), 50)"
      ]
     },
     "execution_count": 12,
     "metadata": {},
     "output_type": "execute_result"
    }
   ],
   "source": [
    "pt=Point(50,50)\n",
    "cir=Circle(pt,50) #Circle(center,radius)\n",
    "cir.draw(win)"
   ]
  },
  {
   "cell_type": "code",
   "execution_count": 13,
   "id": "daac6302",
   "metadata": {},
   "outputs": [
    {
     "data": {
      "text/plain": [
       "Oval(Point(50.0, 50.0), Point(200.0, 100.0))"
      ]
     },
     "execution_count": 13,
     "metadata": {},
     "output_type": "execute_result"
    }
   ],
   "source": [
    "#oval\n",
    "oval=Oval(Point(50,50),Point(200,100))\n",
    "oval.draw(win)"
   ]
  },
  {
   "cell_type": "code",
   "execution_count": 14,
   "id": "65b76ea5",
   "metadata": {},
   "outputs": [
    {
     "ename": "NameError",
     "evalue": "name 'Arc' is not defined",
     "output_type": "error",
     "traceback": [
      "\u001b[1;31m---------------------------------------------------------------------------\u001b[0m",
      "\u001b[1;31mNameError\u001b[0m                                 Traceback (most recent call last)",
      "\u001b[1;32m~\\AppData\\Local\\Temp/ipykernel_7044/1384667217.py\u001b[0m in \u001b[0;36m<module>\u001b[1;34m\u001b[0m\n\u001b[0;32m      2\u001b[0m \u001b[0mpt4\u001b[0m\u001b[1;33m=\u001b[0m\u001b[0mPoint\u001b[0m\u001b[1;33m(\u001b[0m\u001b[1;36m200\u001b[0m\u001b[1;33m,\u001b[0m\u001b[1;36m200\u001b[0m\u001b[1;33m)\u001b[0m\u001b[1;33m\u001b[0m\u001b[1;33m\u001b[0m\u001b[0m\n\u001b[0;32m      3\u001b[0m \u001b[0mr\u001b[0m\u001b[1;33m=\u001b[0m\u001b[1;36m50\u001b[0m\u001b[1;33m\u001b[0m\u001b[1;33m\u001b[0m\u001b[0m\n\u001b[1;32m----> 4\u001b[1;33m \u001b[0marc\u001b[0m\u001b[1;33m=\u001b[0m\u001b[0mArc\u001b[0m\u001b[1;33m(\u001b[0m\u001b[0mpt4\u001b[0m\u001b[1;33m,\u001b[0m\u001b[0mr\u001b[0m\u001b[1;33m,\u001b[0m\u001b[1;36m0\u001b[0m\u001b[1;33m,\u001b[0m\u001b[1;36m180\u001b[0m\u001b[1;33m)\u001b[0m\u001b[1;33m\u001b[0m\u001b[1;33m\u001b[0m\u001b[0m\n\u001b[0m\u001b[0;32m      5\u001b[0m \u001b[0marc\u001b[0m\u001b[1;33m.\u001b[0m\u001b[0mdraw\u001b[0m\u001b[1;33m(\u001b[0m\u001b[0mwin\u001b[0m\u001b[1;33m)\u001b[0m\u001b[1;33m\u001b[0m\u001b[1;33m\u001b[0m\u001b[0m\n",
      "\u001b[1;31mNameError\u001b[0m: name 'Arc' is not defined"
     ]
    }
   ],
   "source": [
    "#Arc\n",
    "pt4=Point(200,200)\n",
    "r=50\n",
    "arc=Arc(pt4,r,0,180)\n",
    "arc.draw(win)"
   ]
  },
  {
   "cell_type": "code",
   "execution_count": null,
   "id": "aff7cb75",
   "metadata": {},
   "outputs": [],
   "source": [
    "pip install --upgrade graphics"
   ]
  },
  {
   "cell_type": "code",
   "execution_count": null,
   "id": "2e725a23",
   "metadata": {},
   "outputs": [],
   "source": [
    "win=GraphWin(\"paint\",300,300) \n",
    "oval=Oval(Point(50,50),Point(30,15))\n",
    "oval.draw(win)\n",
    "win.close()"
   ]
  },
  {
   "cell_type": "code",
   "execution_count": 19,
   "id": "b7742185",
   "metadata": {},
   "outputs": [],
   "source": [
    "from turtle import *"
   ]
  },
  {
   "cell_type": "code",
   "execution_count": null,
   "id": "5dcda9f9",
   "metadata": {},
   "outputs": [],
   "source": [
    "win=GraphWin(\"pattern\",500,300) \n",
    "color('red','yellow')\n",
    "begin_fill()\n",
    "while True:\n",
    "    forward(200)\n",
    "    left(170)\n",
    "    if abs(pos())<1:\n",
    "        break\n",
    "end_fill()\n",
    "done()"
   ]
  },
  {
   "cell_type": "code",
   "execution_count": null,
   "id": "cb494123",
   "metadata": {},
   "outputs": [],
   "source": []
  },
  {
   "cell_type": "code",
   "execution_count": null,
   "id": "cf9a247c",
   "metadata": {},
   "outputs": [],
   "source": []
  }
 ],
 "metadata": {
  "kernelspec": {
   "display_name": "Python 3 (ipykernel)",
   "language": "python",
   "name": "python3"
  },
  "language_info": {
   "codemirror_mode": {
    "name": "ipython",
    "version": 3
   },
   "file_extension": ".py",
   "mimetype": "text/x-python",
   "name": "python",
   "nbconvert_exporter": "python",
   "pygments_lexer": "ipython3",
   "version": "3.9.7"
  }
 },
 "nbformat": 4,
 "nbformat_minor": 5
}
